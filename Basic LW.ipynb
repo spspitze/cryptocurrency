{
 "cells": [
  {
   "cell_type": "code",
   "execution_count": 16,
   "metadata": {},
   "outputs": [
    {
     "name": "stdout",
     "output_type": "stream",
     "text": [
      "[ 0.86236405]\n"
     ]
    }
   ],
   "source": [
    "# Try to calculate steady state for basic LW problem \n",
    "# Set U(X)=Cln(x); u(q)=ln(q+b)-ln(b); c(q)=q; b=.0001 (Zhang 2014)\n",
    "# So u'=1/q+b; c'=1; z(q)=(1-theta)u(q)+theta*c(q); z'=(1-theta)/(q+b)+theta;\n",
    "# l=theta*(u'(q)-c'(q))/z'(q)\n",
    "# l=theta*[(1-q-b)/(q+b)]/[(1-theta)/(q+b)+theta];\n",
    "# l=theta*(1-q-b)/(1-theta+(q+b)*theta)=theta*(1-q-b)/(1-theta*(1-q-b))\n",
    "import math\n",
    "from scipy import optimize\n",
    "import numpy as np\n",
    "b=.00001\n",
    "B=.95 # Discount rate beta\n",
    "lam=.75 # Meeting rate lambda\n",
    "M=1 # Initial Money supply\n",
    "theta=.65 # Buyer bargaining power\n",
    "gamma=0.02 # Inflation rate\n",
    "\n",
    "# Want to solve for q such that lam*l=i=(1+gamma)/B-1\n",
    "def fun(q):\n",
    "    return lam*theta*(1-q-b)/(1-theta*(1-q-b))-(1+gamma)/B+1\n",
    "qstar=np.min(optimize.root(fun,0),0)\n",
    "print(qstar.x)"
   ]
  },
  {
   "cell_type": "code",
   "execution_count": 21,
   "metadata": {},
   "outputs": [
    {
     "data": {
      "image/png": "[encoded data removed]",
      "text/plain": [
       "<matplotlib.figure.Figure at 0x2568d2cb6a0>"
      ]
     },
     "metadata": {},
     "output_type": "display_data"
    }
   ],
   "source": [
    "# How does qstar change with theta?\n",
    "import math\n",
    "from scipy import optimize\n",
    "import numpy as np\n",
    "import matplotlib.pyplot as plt\n",
    "\n",
    "b=.00001\n",
    "B=.95 # Discount rate beta\n",
    "lam=.75 # Meeting rate lambda\n",
    "M=1 # Initial Money supply\n",
    "gamma=0.02 # Inflation rate\n",
    "tgs=101\n",
    "thetagrid=np.linspace(0,1,tgs)\n",
    "qgrid=[]\n",
    "for theta in thetagrid:\n",
    "    def fun(q):\n",
    "        return lam*theta*(1-q-b)/(1-theta*(1-q-b))-(1+gamma)/B+1\n",
    "    qgrid.append(np.maximum(optimize.root(fun,0).x,0))\n",
    "    \n",
    "    \n",
    "plt.plot(thetagrid,qgrid)\n",
    "plt.show()"
   ]
  },
  {
   "cell_type": "code",
   "execution_count": 19,
   "metadata": {},
   "outputs": [
    {
     "data": {
      "image/png": "[encoded data removed]",
      "text/plain": [
       "<matplotlib.figure.Figure at 0x2568d65d080>"
      ]
     },
     "metadata": {},
     "output_type": "display_data"
    }
   ],
   "source": [
    "# How does qstar change with gamma?\n",
    "import math\n",
    "from scipy import optimize\n",
    "import numpy as np\n",
    "import matplotlib.pyplot as plt\n",
    "\n",
    "b=.00001\n",
    "B=.95 # Discount rate beta\n",
    "lam=.75 # Meeting rate lambda\n",
    "M=1 # Initial Money supply\n",
    "theta=.8 # Buyer bargaining power\n",
    "\n",
    "tgs=101\n",
    "gammagrid=np.linspace(0,.2,tgs)\n",
    "qgrid=[]\n",
    "for gamma in gammagrid:\n",
    "    def fun(q):\n",
    "        return lam*theta*(1-q-b)/(1-theta*(1-q-b))-(1+gamma)/B+1\n",
    "    qgrid.append(np.maximum(optimize.root(fun,0).x,0))\n",
    "    \n",
    "    \n",
    "plt.plot(gammagrid,qgrid)\n",
    "plt.show()"
   ]
  },
  {
   "cell_type": "code",
   "execution_count": 18,
   "metadata": {},
   "outputs": [
    {
     "data": {
      "image/png": "[encoded data removed]",
      "text/plain": [
       "<matplotlib.figure.Figure at 0x2568d6cc4e0>"
      ]
     },
     "metadata": {},
     "output_type": "display_data"
    }
   ],
   "source": [
    "# How does qstar change with lam?\n",
    "import math\n",
    "from scipy import optimize\n",
    "import numpy as np\n",
    "import matplotlib.pyplot as plt\n",
    "\n",
    "b=.00001\n",
    "B=.95 # Discount rate beta\n",
    "M=1 # Initial Money supply\n",
    "theta=.7 # Buyer bargaining power\n",
    "gamma=.02 # Inflation rate\n",
    "\n",
    "tgs=101\n",
    "lamgrid=np.linspace(0,1,tgs)\n",
    "qgrid=[]\n",
    "for lam in lamgrid:\n",
    "    def fun(q):\n",
    "        return lam*theta*(1-q-b)/(1-theta*(1-q-b))-(1+gamma)/B+1\n",
    "    qgrid.append(np.maximum(optimize.root(fun,0).x,0))\n",
    "    \n",
    "    \n",
    "plt.plot(lamgrid,qgrid)\n",
    "plt.show()"
   ]
  },
  {
   "cell_type": "code",
   "execution_count": null,
   "metadata": {
    "collapsed": true
   },
   "outputs": [],
   "source": []
  }
 ],
 "metadata": {
  "kernelspec": {
   "display_name": "Python 3",
   "language": "python",
   "name": "python3"
  },
  "language_info": {
   "codemirror_mode": {
    "name": "ipython",
    "version": 3
   },
   "file_extension": ".py",
   "mimetype": "text/x-python",
   "name": "python",
   "nbconvert_exporter": "python",
   "pygments_lexer": "ipython3",
   "version": "3.7.0"
  }
 },
 "nbformat": 4,
 "nbformat_minor": 2
}
