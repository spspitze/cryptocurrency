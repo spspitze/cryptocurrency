{
 "cells": [
  {
   "cell_type": "code",
   "execution_count": 11,
   "metadata": {},
   "outputs": [
    {
     "name": "stdout",
     "output_type": "stream",
     "text": [
      "0.7142957142857143 0.8571478571428571\n"
     ]
    }
   ],
   "source": [
    "# Look at one period problem, alpha=alphal or alphah forever\n",
    "# Money and cc, only buyers (no hodlers)\n",
    "# For cc to be accepted in stst, need gammac<alpha*gammam-(1-alpha)(1-B)\n",
    "# To start with, make alphh=1, alphl st cc always accepted\n",
    "# Set U(X)=Cln(x); u(q)=ln(q+b)-ln(b); c(q)=q; b=.0001 (Zhang 2014)\n",
    "# So u'=1/q+b; c'=1; z(q)=(1-theta)u(q)+theta*c(q); z'=(1-theta)/(q+b)+theta;\n",
    "# l=theta*(u'(q)-c'(q))/z'(q)\n",
    "# l=theta*[(1-q-b)/(q+b)]/[(1-theta)/(q+b)+theta];\n",
    "# l=theta*(1-q-b)/(1-theta+(q+b)*theta)=theta*(1-q-b)/(1-theta*(1-q-b))\n",
    "import math\n",
    "from scipy import optimize\n",
    "import numpy as np\n",
    "b=.00001\n",
    "B=.95 # Discount rate beta\n",
    "lam=.75 # Meeting rate lambda\n",
    "theta=.75 # Buyer bargaining power\n",
    "gammam=0.02 # Money inflation rate\n",
    "gammac=0 # CC inflation rate\n",
    "pi=.5 # Probability alpha=alphal\n",
    "alphal=(gammac+1-B)/(gammam+1-B)+b # Slightly above indifference condition\n",
    "alphah=(1+alphal)/2 # Don't want it to be 1, or money is not valued\n",
    "print(alphal,alphah)\n",
    "lambh=lam*alphah\n",
    "lammh=lam*(1-alphah)\n",
    "lambl=lam*alphal\n",
    "lamml=lam*(1-alphal)\n",
    "# Normalize initial price of cc and supplies of currencies\n",
    "M=1 # Initial Money supply\n",
    "C=1 # Initial cc supply\n",
    "psi0=1 # Initial cc price\n",
    "\n",
    "# First, need to find steady state prices. Assume enite wealth always spent.\n",
    "# phi/(phi'B)-1=(1+gammam)/B=i_m=lamb*l(phi'm'+psi'c')+lamm*l(phi'm')=lamb*l(qb)+lamm*l(gm)\n",
    "# psi/(psi'B)-1=(1+gammac)/B=i_c=lamb*l(phi'm'+psi'c')=lamm*l(qb)\n",
    "\n",
    "# Create a function that finds prices in stst\n",
    "def ststprices(alpha,gammam,gammac,phi,psi):\n",
    "    lamb=lam*alpha\n",
    "    lamm=lam*(1-alpha)\n",
    "    def qb(q):\n",
    "        return lamb*theta*(1-q-b)/(1-theta*(1-q-b))-(1+gammac)/B\n",
    "    qbstar=np.min(optimize.root(qb,0).x,0)\n",
    "    def qm(q):\n",
    "        return lamb*theta*(1-qbstar-b)/(1-theta*(1-qbstar-b))+lamm*theta*(1-q-b)/(1-theta*(1-q-b))-(1+gammam)/B+1\n",
    "    qmstar=np.min(optimize.root(qm,0).x,0)\n",
    "    phip=phi/B/(lamb*theta*(1-qbstar-b)/(1-theta*(1-qbstar-b))+lamm*theta*(1-qmstar-b)/(1-theta*(1-qmstar-b))+1)\n",
    "    psip=psi/B/(lamb*theta*(1-qbstar-b)/(1-theta*(1-qbstar-b))+1)\n",
    "    return phip, psip\n",
    "\n",
    "# Knowing stst prices, we can work backwards to figure out 0th period consumption based on alpha and initial price of money \n",
    "# Use the fact that phibar_0'=phibar_0/(1+gammam) \n",
    "\n"
   ]
  },
  {
   "cell_type": "code",
   "execution_count": 14,
   "metadata": {},
   "outputs": [
    {
     "name": "stdout",
     "output_type": "stream",
     "text": [
      "(0.57259465875078752, 0.51282051282051289)\n",
      "(0.54106160918380919, 0.51282051282051266)\n"
     ]
    }
   ],
   "source": [
    "print(ststprices(alphal,gammam,gammac,1,1))\n",
    "print(ststprices(alphah,gammam,gammac,1,1))"
   ]
  },
  {
   "cell_type": "code",
   "execution_count": 6,
   "metadata": {},
   "outputs": [
    {
     "name": "stdout",
     "output_type": "stream",
     "text": [
      "NOTE: Enter 'c' at the ipdb>  prompt to continue execution.\n",
      "> \u001b[1;32m<string>\u001b[0m(1)\u001b[0;36m<module>\u001b[1;34m()\u001b[0m\n",
      "\n",
      "ipdb> type(qbstar)\n",
      "*** NameError: name 'qbstar' is not defined\n",
      "ipdb> escape\n",
      "*** NameError: name 'escape' is not defined\n",
      "ipdb> exit\n"
     ]
    }
   ],
   "source": []
  },
  {
   "cell_type": "code",
   "execution_count": null,
   "metadata": {
    "collapsed": true
   },
   "outputs": [],
   "source": []
  }
 ],
 "metadata": {
  "kernelspec": {
   "display_name": "Python 3",
   "language": "python",
   "name": "python3"
  },
  "language_info": {
   "codemirror_mode": {
    "name": "ipython",
    "version": 3
   },
   "file_extension": ".py",
   "mimetype": "text/x-python",
   "name": "python",
   "nbconvert_exporter": "python",
   "pygments_lexer": "ipython3",
   "version": "3.6.1"
  }
 },
 "nbformat": 4,
 "nbformat_minor": 2
}
