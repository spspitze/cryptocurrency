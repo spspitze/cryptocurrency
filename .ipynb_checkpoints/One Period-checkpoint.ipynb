{
 "cells": [
  {
   "cell_type": "code",
   "execution_count": 2,
   "metadata": {
    "collapsed": true
   },
   "outputs": [],
   "source": [
    "# Look at one period problem, alpha=alphal or alphah forever\n",
    "# Money and cc, only buyers (no hodlers)\n",
    "# For cc to be accepted in stst, need gammac<alpha*gammam-(1-alpha)(1-B)\n",
    "# To start with, make alphh=1, alphl st cc always accepted\n",
    "# Set U(X)=Cln(x); u(q)=((q+b)**(1-eta)-b**eta)/(1-eta); c(q)=q; b=.0001 (Zhang 2014)\n",
    "# So u'=(q+b)**-eta; c'=1; z(q)=(1-theta)u(q)+theta*c(q); z'=(1-theta)*(q+b)**(-eta)+theta;\n",
    "# l=theta*(u'(q)-c'(q))/z'(q)\n",
    "# l=theta*((q+b)**(-eta)-1)/((1-theta)*(q+b)**(-eta)+theta)=theta*(1-(q-b)**eta)/(1-theta*(1-(q+b)**eta))\n",
    "import math\n",
    "from scipy import optimize\n",
    "import numpy as np\n",
    "b=.00001\n",
    "B=.95 # Discount rate beta\n",
    "lam=.75 # Meeting rate lambda\n",
    "theta=.75 # Buyer bargaining power\n",
    "eta=2 # Buyer risk aversion\n",
    "gammam=0.02 # Money inflation rate\n",
    "gammac=0 # CC inflation rate\n",
    "pi=.5 # Probability alpha=alphal\n",
    "alphal=(gammac+1-B)/(gammam+1-B)+.05 # Slightly above indifference condition\n",
    "alphah=(1+alphal)/2 # Don't want it to be 1, or money is not valued\n",
    "lambh=lam*alphah # Probability of meeting a both type in high state\n",
    "lammh=lam*(1-alphah) # Probability of meeting a money type in high state\n",
    "lambl=lam*alphal # Probability of meeting a both type in low state\n",
    "lamml=lam*(1-alphal) # Probability of meeting a money type in low state\n",
    "# Normalize initial price of cc and supplies of currencies\n",
    "M=1 # Initial Money supply\n",
    "C=1 # Initial cc supply\n",
    "psi0=1 # Initial cc price\n",
    "\n",
    "# First, need to find steady state prices. Assume enite wealth always spent.\n",
    "# phi/(phi'B)-1=(1+gammam)/B=i_m=lamb*l(phi'm'+psi'c')+lamm*l(phi'm')=lamb*l(qb)+lamm*l(gm)\n",
    "# psi/(psi'B)-1=(1+gammac)/B=i_c=lamb*l(phi'm'+psi'c')=lamm*l(qb)\n",
    "\n",
    "# Create a function that finds tomorrow's price in stst\n",
    "def ststprices(alpha,gammam,gammac,Mp,Cp):\n",
    "    lamb=lam*alpha\n",
    "    lamm=lam*(1-alpha)\n",
    "    qbstar=np.max(((theta*B*lamb-(1-theta)*(1+gammac-B))/theta/(1+gammac-B+B*lamb))**(1/eta)-b,0)\n",
    "    qmstar=np.max(((theta*B*lamm-(1-theta)*(gammam-gammac))/theta/(gammam-gammac+B*lamm))**(1/eta)-b,0)\n",
    "    phip=(theta*qmstar+(1-theta)*((qmstar+b)**(1-eta)-b**(1-eta))/(1-eta))/Mp\n",
    "    psip=(theta*(qbstar-qmstar)+(1-theta)*((qbstar+b)**(1-eta)-(qmstar+b)**(1-eta))/(1-eta))/Cp\n",
    "    return phip, psip    \n",
    "\n",
    "# Create a function that outputs the liquidity formuala for a given q\n",
    "def liquidityq(q):\n",
    "    return (theta*(1-(q+b)**eta))/(1-theta*(1-(q+b)**eta))\n",
    "\n",
    "# Create a function that outputs z(q(w))=w for a given wealth w and q (solve by giving a w, set this equal to 0, and solve for q)\n",
    "def qwealth(q,w):\n",
    "    return theta*q+(1-theta)*((q+b)**(1-eta)-(q+b)**(1-eta))/(1-eta)-w\n",
    "\n",
    "# Create a function to solve for q given w and output liquidity \n",
    "def liquidity(w):\n",
    "    def temp(q,w):\n",
    "        return np.array(theta+(1-theta)*(q+b)**eta)\n",
    "    qstar=optimize.root(qwealth,1,args=w,method='hybr',jac=temp).x\n",
    "    return liquidityq(qstar)\n",
    "\n",
    "# Create a function to take the derivative of liquidity\n",
    "def dliq(q):\n",
    "    return -theta*eta*(q+b)**(eta-1)/(1-theta*(1-(q+b)**eta))**2\n",
    "\n",
    "# Create a function to take the derivative of z\n",
    "def dz(q):\n",
    "    return theta+(1-theta)*(q+b)**(-eta)"
   ]
  },
  {
   "cell_type": "code",
   "execution_count": 83,
   "metadata": {},
   "outputs": [
    {
     "name": "stdout",
     "output_type": "stream",
     "text": [
      "[ 5821.16945269] [ 0.01815858]\n"
     ]
    }
   ],
   "source": [
    "# T={0,1}, mu=1 (no hodlers), so m=Mp/1 and c=Cp/1\n",
    "M=1\n",
    "C=1\n",
    "Mp=M*(1+gammam) # tomorrow's money supply\n",
    "Cp=C*(1+gammac) # tomorrow's cc supply\n",
    "phi0s,psi0s=ststprices(alphal,gammam,gammac,Mp,Cp) # prices in low stst\n",
    "phi1s,psi1s=ststprices(alphah,gammam,gammac,Mp,Cp) # prices in high stst\n",
    "phi0=B*pi*phi0s*(lambl*liquidity(phi0s*Mp+psi0s*Cp)+lamml*liquidity(phi0s*Mp)+1)+ \\\n",
    "     B*(1-pi)*phi1s*(lambh*liquidity(phi1s*Mp+psi1s*Cp)+lammh*liquidity(phi1s*Mp)+1)\n",
    "psi0=B*pi*psi0s*(lambl*liquidity(phi0s*Mp+psi0s*Cp)+1)+B*(1-pi)*psi1s*(lambh*liquidity(phi1s*Mp+psi1s*Cp)+1)\n",
    "print(phi0,psi0)"
   ]
  },
  {
   "cell_type": "code",
   "execution_count": 35,
   "metadata": {},
   "outputs": [],
   "source": [
    "# Run first cell before this one.\n",
    "# T={0,1}, 0<mu<1 (both buyers and hodlers), so mh=(Mp-mu*m)/(1-mu) and ch=(Cp-mu*c)/(1-mu)\n",
    "# Two cases, 1. hodlers hold all cc, 2. both hold some cc\n",
    "# To see if in case 1, solve with c=0. If solution gives mu*m<Mp, then done. If mu*m>Mp, need to solve with c>0\n",
    "M0=1 # Original money supply\n",
    "C0=1 # Original cc supply\n",
    "time=0 # period problem solved in\n",
    "mu=.99 # share of buyers (vs hodlers)\n",
    "Mp=M0*(1+gammam)**(time+1) # the money supply next period\n",
    "Cp=C0*(1+gammac)**(time+1) # the cc supply next period\n",
    "phil,psil=ststprices(alphal,gammam,gammac,Mp,Cp) # prices in low stst\n",
    "phih,psih=ststprices(alphah,gammam,gammac,Mp,Cp) # prices in high stst\n",
    "\n",
    "def periodprices(alphal,alphah,phil,psil,phih,psih,pi,time):\n",
    "    lambh=lam*alphah # Probability of meeting a both type in high state\n",
    "    lammh=lam*(1-alphah) # Probability of meeting a money type in high state\n",
    "    lambl=lam*alphal # Probability of meeting a both type in low state\n",
    "    lamml=lam*(1-alphal) # Probability of meeting a money type in low state\n",
    "    def sysc0(x):\n",
    "        firsteq1=B*pi*phil*(1+lam*liquidityq(x[3]))+B*(1-pi)*phih*(1+lam*liquidityq(x[4]))-x[0]\n",
    "        secondeq1=B*phih*(1+lambh*liquidityq(x[5])+lammh*liquidity(x[6]))-x[0]\n",
    "        thirdeq1=B*psih*(1+lambh*liquidityq(x[5]))-x[1]\n",
    "        fourtheq1=qwealth(x[3],phil*x[2])\n",
    "        fiftheq1=qwealth(x[4],phih*x[2])\n",
    "        sixtheq1=qwealth(x[5],phih*(Mp-mu*x[2])/(1-mu)+psih*Cp/(1-mu))\n",
    "        seventheq1=qwealth(x[6],phih*(Mp-mu*x[2])/(1-mu))\n",
    "        return [firsteq1, secondeq1, thirdeq1, fourtheq1, fiftheq1, sixtheq1, seventheq1]\n",
    "    def jac1(x):\n",
    "        return [[-1,0,0,-B*pi*phil*lam*dliq(x[3]),-B*(1-pi)*phih*lam*dliq(x[4]),0,0],\n",
    "               [-1,0,0,0,0,-B*phih*lambh*dliq(x[5]),-B*phih*lambh*dliq(x[6])],\n",
    "               [0,-1,0,0,0,-B*psih*lambh*dliq(x[5]),0],\n",
    "               [0,0,-phil,dz(x[3]),0,0,0],\n",
    "               [0,0,-phih,0,dz(x[4]),0,0],\n",
    "               [0,0,mu/(1-mu)*phih,0,0,dz(x[5]),0],\n",
    "               [0,0,mu/(1-mu)*phih,0,0,0,dz(x[6])]]\n",
    "    phi,psi,m,ql,qh,qhb,qhm=optimize.root(sysc0,(.5,.5,1,1,1,1,1),jac=jac1).x\n",
    "    c=0\n",
    "    if mu*m<Mp:\n",
    "        return phi,psi,m,c,ql,qh,qhb,qhm\n",
    "    def sysc(x):\n",
    "        firsteq=B*pi*phil*(1+lambl*liquidityq(x[4])+lamml*liquidityq(x[5]))+ \\\n",
    "                B*(1-pi)*phih*(1+lambh*liquidityq(x[6])+lammh*liquidityq(x[7]))-x[0]\n",
    "        secondeq=B*pi*psil*(1+lambl*liquidityq(x[4]))+B*(1-pi)*psih*(1+lambh*liquidityq(x[6]))-x[1] \n",
    "        thirdeq=B*phih*(1+lambh*liquidityq(x[8])+lammh*liquidity(x[9]))-x[0]\n",
    "        fourtheq=B*psih*(1+lambh*liquidityq(x[8]))-x[1]\n",
    "        fiftheq=qwealth(x[4],phil*x[2]+psil*x[3])\n",
    "        sixtheq=qwealth(x[5],phil*x[2])\n",
    "        seventhq=qwealth(x[6],phih*x[2]+psih*x[3])\n",
    "        eigthq=qwealth(x[7],phih*x[2])\n",
    "        ninthq=qwealth(x[8],phih*(Mp-mu*x[2])/(1-mu)+psih*(Cp-mu*x[3])/(1-mu))\n",
    "        tenthq=qwealth(x[9],phih*(Mp-mu*x[2])/(1-mu))\n",
    "        return [firsteq, secondeq, thirdeq, fourtheq, fiftheq, sixtheq, seventheq,eigtheq,nintheq,tentheq]\n",
    "    def jac2(x):\n",
    "        return [[-1,0,0,0,-B*pi*phil*lambl*dliq(x[5]),-B*pi*phil*lamml*dliq(x[6]),-B*(1-pi)*phih*lambh*dliq(x[7]),\n",
    "                -B*(1-pi)*phih*lammh*dliq(x[9]),0,0],\n",
    "               [0,-1,0,0,-B*pi*psil*lambl*dliq(x[5]),0,-B*(1-pi)*psih*lambh*dliq(x[7]),0,0,0],\n",
    "               [-1,0,0,0,0,0,0,0,-B*phih*lambh*dliq(x[8]),-B*phih*lammh*dliq(x[9])],\n",
    "               [0,-1,0,0,0,0,0,0,-B*psih*lambh*dliq(x[8]),0],\n",
    "               [0,0,-phil,-psil,dz(x[4]),0,0,0,0,0],\n",
    "               [0,0,-phil,0,0,dz(x[5]),0,0,0,0],\n",
    "               [0,0,-phih,-psih,0,0,dz(x[6]),0,0,0],\n",
    "               [0,0,-phih,0,0,0,0,dz(x[7]),0,0],\n",
    "               [0,0,mu/(1-mu)*phih,mu/(1-mu)*psih,0,0,0,0,dz(x[8]),0],\n",
    "               [0,0,mu/(1-mu)*phih,0,0,0,0,0,0,dz(x[9])]]\n",
    "    return optimize.root(sysc,(.5,.5,1,1,1,1,1,1,1,1),jac=jac2).x"
   ]
  },
  {
   "cell_type": "code",
   "execution_count": 36,
   "metadata": {},
   "outputs": [
    {
     "name": "stdout",
     "output_type": "stream",
     "text": [
      "0.9 0.95\n",
      "(24999.788874524194, 0.68062925678098207)\n",
      "(24996.299992499997, 4.1710823598525408)\n",
      "((24999.999992499997+0.87535277597961936j), (0.47222722082202151-0.87535277597961936j))\n",
      "-1.4999850001229465e-05\n",
      "[ 2.79743951]\n"
     ]
    },
    {
     "ename": "NameError",
     "evalue": "name 'seventheq' is not defined",
     "output_type": "error",
     "traceback": [
      "\u001b[1;31m---------------------------------------------------------------------------\u001b[0m",
      "\u001b[1;31mNameError\u001b[0m                                 Traceback (most recent call last)",
      "\u001b[1;32m<ipython-input-36-fd6cabbd33d7>\u001b[0m in \u001b[0;36m<module>\u001b[1;34m()\u001b[0m\n\u001b[0;32m      5\u001b[0m \u001b[0mprint\u001b[0m\u001b[1;33m(\u001b[0m\u001b[0mliquidityq\u001b[0m\u001b[1;33m(\u001b[0m\u001b[1;36m1\u001b[0m\u001b[1;33m)\u001b[0m\u001b[1;33m)\u001b[0m\u001b[1;33m\u001b[0m\u001b[0m\n\u001b[0;32m      6\u001b[0m \u001b[0mprint\u001b[0m\u001b[1;33m(\u001b[0m\u001b[0mliquidity\u001b[0m\u001b[1;33m(\u001b[0m\u001b[1;36m.1\u001b[0m\u001b[1;33m)\u001b[0m\u001b[1;33m)\u001b[0m\u001b[1;33m\u001b[0m\u001b[0m\n\u001b[1;32m----> 7\u001b[1;33m \u001b[0mprint\u001b[0m\u001b[1;33m(\u001b[0m\u001b[0mperiodprices\u001b[0m\u001b[1;33m(\u001b[0m\u001b[0malphal\u001b[0m\u001b[1;33m,\u001b[0m\u001b[0malphah\u001b[0m\u001b[1;33m,\u001b[0m\u001b[0mphil\u001b[0m\u001b[1;33m,\u001b[0m\u001b[0mpsil\u001b[0m\u001b[1;33m,\u001b[0m\u001b[0mphih\u001b[0m\u001b[1;33m,\u001b[0m\u001b[0mpsih\u001b[0m\u001b[1;33m,\u001b[0m\u001b[0mpi\u001b[0m\u001b[1;33m,\u001b[0m\u001b[1;36m0\u001b[0m\u001b[1;33m)\u001b[0m\u001b[1;33m)\u001b[0m\u001b[1;33m\u001b[0m\u001b[0m\n\u001b[0m",
      "\u001b[1;32m<ipython-input-35-47aed11959a0>\u001b[0m in \u001b[0;36mperiodprices\u001b[1;34m(alphal, alphah, phil, psil, phih, psih, pi, time)\u001b[0m\n\u001b[0;32m     63\u001b[0m                    \u001b[1;33m[\u001b[0m\u001b[1;36m0\u001b[0m\u001b[1;33m,\u001b[0m\u001b[1;36m0\u001b[0m\u001b[1;33m,\u001b[0m\u001b[0mmu\u001b[0m\u001b[1;33m/\u001b[0m\u001b[1;33m(\u001b[0m\u001b[1;36m1\u001b[0m\u001b[1;33m-\u001b[0m\u001b[0mmu\u001b[0m\u001b[1;33m)\u001b[0m\u001b[1;33m*\u001b[0m\u001b[0mphih\u001b[0m\u001b[1;33m,\u001b[0m\u001b[0mmu\u001b[0m\u001b[1;33m/\u001b[0m\u001b[1;33m(\u001b[0m\u001b[1;36m1\u001b[0m\u001b[1;33m-\u001b[0m\u001b[0mmu\u001b[0m\u001b[1;33m)\u001b[0m\u001b[1;33m*\u001b[0m\u001b[0mpsih\u001b[0m\u001b[1;33m,\u001b[0m\u001b[1;36m0\u001b[0m\u001b[1;33m,\u001b[0m\u001b[1;36m0\u001b[0m\u001b[1;33m,\u001b[0m\u001b[1;36m0\u001b[0m\u001b[1;33m,\u001b[0m\u001b[1;36m0\u001b[0m\u001b[1;33m,\u001b[0m\u001b[0mdz\u001b[0m\u001b[1;33m(\u001b[0m\u001b[0mx\u001b[0m\u001b[1;33m[\u001b[0m\u001b[1;36m8\u001b[0m\u001b[1;33m]\u001b[0m\u001b[1;33m)\u001b[0m\u001b[1;33m,\u001b[0m\u001b[1;36m0\u001b[0m\u001b[1;33m]\u001b[0m\u001b[1;33m,\u001b[0m\u001b[1;33m\u001b[0m\u001b[0m\n\u001b[0;32m     64\u001b[0m                    [0,0,mu/(1-mu)*phih,0,0,0,0,0,0,dz(x[9])]]\n\u001b[1;32m---> 65\u001b[1;33m         \u001b[1;32mreturn\u001b[0m \u001b[0moptimize\u001b[0m\u001b[1;33m.\u001b[0m\u001b[0mroot\u001b[0m\u001b[1;33m(\u001b[0m\u001b[0msysc\u001b[0m\u001b[1;33m,\u001b[0m\u001b[1;33m(\u001b[0m\u001b[1;36m.5\u001b[0m\u001b[1;33m,\u001b[0m\u001b[1;36m.5\u001b[0m\u001b[1;33m,\u001b[0m\u001b[1;36m1\u001b[0m\u001b[1;33m,\u001b[0m\u001b[1;36m1\u001b[0m\u001b[1;33m,\u001b[0m\u001b[1;36m1\u001b[0m\u001b[1;33m,\u001b[0m\u001b[1;36m1\u001b[0m\u001b[1;33m,\u001b[0m\u001b[1;36m1\u001b[0m\u001b[1;33m,\u001b[0m\u001b[1;36m1\u001b[0m\u001b[1;33m,\u001b[0m\u001b[1;36m1\u001b[0m\u001b[1;33m,\u001b[0m\u001b[1;36m1\u001b[0m\u001b[1;33m)\u001b[0m\u001b[1;33m,\u001b[0m\u001b[0mjac\u001b[0m\u001b[1;33m=\u001b[0m\u001b[0mjac2\u001b[0m\u001b[1;33m)\u001b[0m\u001b[1;33m.\u001b[0m\u001b[0mx\u001b[0m\u001b[1;33m\u001b[0m\u001b[0m\n\u001b[0m",
      "\u001b[1;32mC:\\Users\\spspi\\AppData\\Local\\Continuum\\Anaconda3\\lib\\site-packages\\scipy\\optimize\\_root.py\u001b[0m in \u001b[0;36mroot\u001b[1;34m(fun, x0, args, method, jac, tol, callback, options)\u001b[0m\n\u001b[0;32m    184\u001b[0m \u001b[1;33m\u001b[0m\u001b[0m\n\u001b[0;32m    185\u001b[0m     \u001b[1;32mif\u001b[0m \u001b[0mmeth\u001b[0m \u001b[1;33m==\u001b[0m \u001b[1;34m'hybr'\u001b[0m\u001b[1;33m:\u001b[0m\u001b[1;33m\u001b[0m\u001b[0m\n\u001b[1;32m--> 186\u001b[1;33m         \u001b[0msol\u001b[0m \u001b[1;33m=\u001b[0m \u001b[0m_root_hybr\u001b[0m\u001b[1;33m(\u001b[0m\u001b[0mfun\u001b[0m\u001b[1;33m,\u001b[0m \u001b[0mx0\u001b[0m\u001b[1;33m,\u001b[0m \u001b[0margs\u001b[0m\u001b[1;33m=\u001b[0m\u001b[0margs\u001b[0m\u001b[1;33m,\u001b[0m \u001b[0mjac\u001b[0m\u001b[1;33m=\u001b[0m\u001b[0mjac\u001b[0m\u001b[1;33m,\u001b[0m \u001b[1;33m**\u001b[0m\u001b[0moptions\u001b[0m\u001b[1;33m)\u001b[0m\u001b[1;33m\u001b[0m\u001b[0m\n\u001b[0m\u001b[0;32m    187\u001b[0m     \u001b[1;32melif\u001b[0m \u001b[0mmeth\u001b[0m \u001b[1;33m==\u001b[0m \u001b[1;34m'lm'\u001b[0m\u001b[1;33m:\u001b[0m\u001b[1;33m\u001b[0m\u001b[0m\n\u001b[0;32m    188\u001b[0m         \u001b[0msol\u001b[0m \u001b[1;33m=\u001b[0m \u001b[0m_root_leastsq\u001b[0m\u001b[1;33m(\u001b[0m\u001b[0mfun\u001b[0m\u001b[1;33m,\u001b[0m \u001b[0mx0\u001b[0m\u001b[1;33m,\u001b[0m \u001b[0margs\u001b[0m\u001b[1;33m=\u001b[0m\u001b[0margs\u001b[0m\u001b[1;33m,\u001b[0m \u001b[0mjac\u001b[0m\u001b[1;33m=\u001b[0m\u001b[0mjac\u001b[0m\u001b[1;33m,\u001b[0m \u001b[1;33m**\u001b[0m\u001b[0moptions\u001b[0m\u001b[1;33m)\u001b[0m\u001b[1;33m\u001b[0m\u001b[0m\n",
      "\u001b[1;32mC:\\Users\\spspi\\AppData\\Local\\Continuum\\Anaconda3\\lib\\site-packages\\scipy\\optimize\\minpack.py\u001b[0m in \u001b[0;36m_root_hybr\u001b[1;34m(func, x0, args, jac, col_deriv, xtol, maxfev, band, eps, factor, diag, **unknown_options)\u001b[0m\n\u001b[0;32m    210\u001b[0m     \u001b[1;32mif\u001b[0m \u001b[1;32mnot\u001b[0m \u001b[0misinstance\u001b[0m\u001b[1;33m(\u001b[0m\u001b[0margs\u001b[0m\u001b[1;33m,\u001b[0m \u001b[0mtuple\u001b[0m\u001b[1;33m)\u001b[0m\u001b[1;33m:\u001b[0m\u001b[1;33m\u001b[0m\u001b[0m\n\u001b[0;32m    211\u001b[0m         \u001b[0margs\u001b[0m \u001b[1;33m=\u001b[0m \u001b[1;33m(\u001b[0m\u001b[0margs\u001b[0m\u001b[1;33m,\u001b[0m\u001b[1;33m)\u001b[0m\u001b[1;33m\u001b[0m\u001b[0m\n\u001b[1;32m--> 212\u001b[1;33m     \u001b[0mshape\u001b[0m\u001b[1;33m,\u001b[0m \u001b[0mdtype\u001b[0m \u001b[1;33m=\u001b[0m \u001b[0m_check_func\u001b[0m\u001b[1;33m(\u001b[0m\u001b[1;34m'fsolve'\u001b[0m\u001b[1;33m,\u001b[0m \u001b[1;34m'func'\u001b[0m\u001b[1;33m,\u001b[0m \u001b[0mfunc\u001b[0m\u001b[1;33m,\u001b[0m \u001b[0mx0\u001b[0m\u001b[1;33m,\u001b[0m \u001b[0margs\u001b[0m\u001b[1;33m,\u001b[0m \u001b[0mn\u001b[0m\u001b[1;33m,\u001b[0m \u001b[1;33m(\u001b[0m\u001b[0mn\u001b[0m\u001b[1;33m,\u001b[0m\u001b[1;33m)\u001b[0m\u001b[1;33m)\u001b[0m\u001b[1;33m\u001b[0m\u001b[0m\n\u001b[0m\u001b[0;32m    213\u001b[0m     \u001b[1;32mif\u001b[0m \u001b[0mepsfcn\u001b[0m \u001b[1;32mis\u001b[0m \u001b[1;32mNone\u001b[0m\u001b[1;33m:\u001b[0m\u001b[1;33m\u001b[0m\u001b[0m\n\u001b[0;32m    214\u001b[0m         \u001b[0mepsfcn\u001b[0m \u001b[1;33m=\u001b[0m \u001b[0mfinfo\u001b[0m\u001b[1;33m(\u001b[0m\u001b[0mdtype\u001b[0m\u001b[1;33m)\u001b[0m\u001b[1;33m.\u001b[0m\u001b[0meps\u001b[0m\u001b[1;33m\u001b[0m\u001b[0m\n",
      "\u001b[1;32mC:\\Users\\spspi\\AppData\\Local\\Continuum\\Anaconda3\\lib\\site-packages\\scipy\\optimize\\minpack.py\u001b[0m in \u001b[0;36m_check_func\u001b[1;34m(checker, argname, thefunc, x0, args, numinputs, output_shape)\u001b[0m\n\u001b[0;32m     24\u001b[0m def _check_func(checker, argname, thefunc, x0, args, numinputs,\n\u001b[0;32m     25\u001b[0m                 output_shape=None):\n\u001b[1;32m---> 26\u001b[1;33m     \u001b[0mres\u001b[0m \u001b[1;33m=\u001b[0m \u001b[0matleast_1d\u001b[0m\u001b[1;33m(\u001b[0m\u001b[0mthefunc\u001b[0m\u001b[1;33m(\u001b[0m\u001b[1;33m*\u001b[0m\u001b[1;33m(\u001b[0m\u001b[1;33m(\u001b[0m\u001b[0mx0\u001b[0m\u001b[1;33m[\u001b[0m\u001b[1;33m:\u001b[0m\u001b[0mnuminputs\u001b[0m\u001b[1;33m]\u001b[0m\u001b[1;33m,\u001b[0m\u001b[1;33m)\u001b[0m \u001b[1;33m+\u001b[0m \u001b[0margs\u001b[0m\u001b[1;33m)\u001b[0m\u001b[1;33m)\u001b[0m\u001b[1;33m)\u001b[0m\u001b[1;33m\u001b[0m\u001b[0m\n\u001b[0m\u001b[0;32m     27\u001b[0m     \u001b[1;32mif\u001b[0m \u001b[1;33m(\u001b[0m\u001b[0moutput_shape\u001b[0m \u001b[1;32mis\u001b[0m \u001b[1;32mnot\u001b[0m \u001b[1;32mNone\u001b[0m\u001b[1;33m)\u001b[0m \u001b[1;32mand\u001b[0m \u001b[1;33m(\u001b[0m\u001b[0mshape\u001b[0m\u001b[1;33m(\u001b[0m\u001b[0mres\u001b[0m\u001b[1;33m)\u001b[0m \u001b[1;33m!=\u001b[0m \u001b[0moutput_shape\u001b[0m\u001b[1;33m)\u001b[0m\u001b[1;33m:\u001b[0m\u001b[1;33m\u001b[0m\u001b[0m\n\u001b[0;32m     28\u001b[0m         \u001b[1;32mif\u001b[0m \u001b[1;33m(\u001b[0m\u001b[0moutput_shape\u001b[0m\u001b[1;33m[\u001b[0m\u001b[1;36m0\u001b[0m\u001b[1;33m]\u001b[0m \u001b[1;33m!=\u001b[0m \u001b[1;36m1\u001b[0m\u001b[1;33m)\u001b[0m\u001b[1;33m:\u001b[0m\u001b[1;33m\u001b[0m\u001b[0m\n",
      "\u001b[1;32m<ipython-input-35-47aed11959a0>\u001b[0m in \u001b[0;36msysc\u001b[1;34m(x)\u001b[0m\n\u001b[0;32m     50\u001b[0m             \u001b[0mninthq\u001b[0m\u001b[1;33m=\u001b[0m\u001b[0mqwealth\u001b[0m\u001b[1;33m(\u001b[0m\u001b[0mx\u001b[0m\u001b[1;33m[\u001b[0m\u001b[1;36m8\u001b[0m\u001b[1;33m]\u001b[0m\u001b[1;33m,\u001b[0m\u001b[0mphih\u001b[0m\u001b[1;33m*\u001b[0m\u001b[1;33m(\u001b[0m\u001b[0mMp\u001b[0m\u001b[1;33m-\u001b[0m\u001b[0mmu\u001b[0m\u001b[1;33m*\u001b[0m\u001b[0mx\u001b[0m\u001b[1;33m[\u001b[0m\u001b[1;36m2\u001b[0m\u001b[1;33m]\u001b[0m\u001b[1;33m)\u001b[0m\u001b[1;33m/\u001b[0m\u001b[1;33m(\u001b[0m\u001b[1;36m1\u001b[0m\u001b[1;33m-\u001b[0m\u001b[0mmu\u001b[0m\u001b[1;33m)\u001b[0m\u001b[1;33m+\u001b[0m\u001b[0mpsih\u001b[0m\u001b[1;33m*\u001b[0m\u001b[1;33m(\u001b[0m\u001b[0mCp\u001b[0m\u001b[1;33m-\u001b[0m\u001b[0mmu\u001b[0m\u001b[1;33m*\u001b[0m\u001b[0mx\u001b[0m\u001b[1;33m[\u001b[0m\u001b[1;36m3\u001b[0m\u001b[1;33m]\u001b[0m\u001b[1;33m)\u001b[0m\u001b[1;33m/\u001b[0m\u001b[1;33m(\u001b[0m\u001b[1;36m1\u001b[0m\u001b[1;33m-\u001b[0m\u001b[0mmu\u001b[0m\u001b[1;33m)\u001b[0m\u001b[1;33m)\u001b[0m\u001b[1;33m\u001b[0m\u001b[0m\n\u001b[0;32m     51\u001b[0m             \u001b[0mtenthq\u001b[0m\u001b[1;33m=\u001b[0m\u001b[0mqwealth\u001b[0m\u001b[1;33m(\u001b[0m\u001b[0mx\u001b[0m\u001b[1;33m[\u001b[0m\u001b[1;36m9\u001b[0m\u001b[1;33m]\u001b[0m\u001b[1;33m,\u001b[0m\u001b[0mphih\u001b[0m\u001b[1;33m*\u001b[0m\u001b[1;33m(\u001b[0m\u001b[0mMp\u001b[0m\u001b[1;33m-\u001b[0m\u001b[0mmu\u001b[0m\u001b[1;33m*\u001b[0m\u001b[0mx\u001b[0m\u001b[1;33m[\u001b[0m\u001b[1;36m2\u001b[0m\u001b[1;33m]\u001b[0m\u001b[1;33m)\u001b[0m\u001b[1;33m/\u001b[0m\u001b[1;33m(\u001b[0m\u001b[1;36m1\u001b[0m\u001b[1;33m-\u001b[0m\u001b[0mmu\u001b[0m\u001b[1;33m)\u001b[0m\u001b[1;33m)\u001b[0m\u001b[1;33m\u001b[0m\u001b[0m\n\u001b[1;32m---> 52\u001b[1;33m             \u001b[1;32mreturn\u001b[0m \u001b[1;33m[\u001b[0m\u001b[0mfirsteq\u001b[0m\u001b[1;33m,\u001b[0m \u001b[0msecondeq\u001b[0m\u001b[1;33m,\u001b[0m \u001b[0mthirdeq\u001b[0m\u001b[1;33m,\u001b[0m \u001b[0mfourtheq\u001b[0m\u001b[1;33m,\u001b[0m \u001b[0mfiftheq\u001b[0m\u001b[1;33m,\u001b[0m \u001b[0msixtheq\u001b[0m\u001b[1;33m,\u001b[0m \u001b[0mseventheq\u001b[0m\u001b[1;33m,\u001b[0m\u001b[0meigtheq\u001b[0m\u001b[1;33m,\u001b[0m\u001b[0mnintheq\u001b[0m\u001b[1;33m,\u001b[0m\u001b[0mtentheq\u001b[0m\u001b[1;33m]\u001b[0m\u001b[1;33m\u001b[0m\u001b[0m\n\u001b[0m\u001b[0;32m     53\u001b[0m         \u001b[1;32mdef\u001b[0m \u001b[0mjac2\u001b[0m\u001b[1;33m(\u001b[0m\u001b[0mx\u001b[0m\u001b[1;33m)\u001b[0m\u001b[1;33m:\u001b[0m\u001b[1;33m\u001b[0m\u001b[0m\n\u001b[0;32m     54\u001b[0m             return [[-1,0,0,0,-B*pi*phil*lambl*dliq(x[5]),-B*pi*phil*lamml*dliq(x[6]),-B*(1-pi)*phih*lambh*dliq(x[7]),\n",
      "\u001b[1;31mNameError\u001b[0m: name 'seventheq' is not defined"
     ]
    }
   ],
   "source": [
    "print(alphal,alphah) \n",
    "print(ststprices(alphal,gammam,gammac,1,1))\n",
    "print(ststprices(alphah,gammam,gammac,1,1))\n",
    "print(ststprices(.99,gammam,gammac,1,1))\n",
    "print(liquidityq(1))\n",
    "print(liquidity(.1))\n",
    "print(periodprices(alphal,alphah,phil,psil,phih,psih,pi,0))"
   ]
  },
  {
   "cell_type": "code",
   "execution_count": 32,
   "metadata": {},
   "outputs": [
    {
     "ename": "NameError",
     "evalue": "name 'seventheq' is not defined",
     "output_type": "error",
     "traceback": [
      "\u001b[1;31m---------------------------------------------------------------------------\u001b[0m",
      "\u001b[1;31mNameError\u001b[0m                                 Traceback (most recent call last)",
      "\u001b[1;32m<ipython-input-32-715a85d35e88>\u001b[0m in \u001b[0;36m<module>\u001b[1;34m()\u001b[0m\n\u001b[0;32m     13\u001b[0m \u001b[0mphil\u001b[0m\u001b[1;33m,\u001b[0m\u001b[0mpsil\u001b[0m\u001b[1;33m=\u001b[0m\u001b[0mststprices\u001b[0m\u001b[1;33m(\u001b[0m\u001b[0malphal\u001b[0m\u001b[1;33m,\u001b[0m\u001b[0mgammam\u001b[0m\u001b[1;33m,\u001b[0m\u001b[0mgammac\u001b[0m\u001b[1;33m,\u001b[0m\u001b[0mMp\u001b[0m\u001b[1;33m,\u001b[0m\u001b[0mCp\u001b[0m\u001b[1;33m)\u001b[0m \u001b[1;31m# prices in low stst\u001b[0m\u001b[1;33m\u001b[0m\u001b[0m\n\u001b[0;32m     14\u001b[0m \u001b[0mphih\u001b[0m\u001b[1;33m,\u001b[0m\u001b[0mpsih\u001b[0m\u001b[1;33m=\u001b[0m\u001b[0mststprices\u001b[0m\u001b[1;33m(\u001b[0m\u001b[0malphah\u001b[0m\u001b[1;33m,\u001b[0m\u001b[0mgammam\u001b[0m\u001b[1;33m,\u001b[0m\u001b[0mgammac\u001b[0m\u001b[1;33m,\u001b[0m\u001b[0mMp\u001b[0m\u001b[1;33m,\u001b[0m\u001b[0mCp\u001b[0m\u001b[1;33m)\u001b[0m \u001b[1;31m# prices in high stst\u001b[0m\u001b[1;33m\u001b[0m\u001b[0m\n\u001b[1;32m---> 15\u001b[1;33m \u001b[0mprint\u001b[0m\u001b[1;33m(\u001b[0m\u001b[0mperiodprices\u001b[0m\u001b[1;33m(\u001b[0m\u001b[0malphal\u001b[0m\u001b[1;33m,\u001b[0m\u001b[0malphah\u001b[0m\u001b[1;33m,\u001b[0m\u001b[0mphil\u001b[0m\u001b[1;33m,\u001b[0m\u001b[0mpsil\u001b[0m\u001b[1;33m,\u001b[0m\u001b[0mphih\u001b[0m\u001b[1;33m,\u001b[0m\u001b[0mpsih\u001b[0m\u001b[1;33m,\u001b[0m\u001b[0mpi\u001b[0m\u001b[1;33m,\u001b[0m\u001b[1;36m0\u001b[0m\u001b[1;33m)\u001b[0m\u001b[1;33m)\u001b[0m\u001b[1;33m\u001b[0m\u001b[0m\n\u001b[0m",
      "\u001b[1;32m<ipython-input-9-742e33213b9c>\u001b[0m in \u001b[0;36mperiodprices\u001b[1;34m(alphal, alphah, phil, psil, phih, psih, pi, time)\u001b[0m\n\u001b[0;32m     62\u001b[0m                \u001b[1;33m[\u001b[0m\u001b[1;36m0\u001b[0m\u001b[1;33m,\u001b[0m\u001b[1;36m0\u001b[0m\u001b[1;33m,\u001b[0m\u001b[0mmu\u001b[0m\u001b[1;33m/\u001b[0m\u001b[1;33m(\u001b[0m\u001b[1;36m1\u001b[0m\u001b[1;33m-\u001b[0m\u001b[0mmu\u001b[0m\u001b[1;33m)\u001b[0m\u001b[1;33m*\u001b[0m\u001b[0mphih\u001b[0m\u001b[1;33m,\u001b[0m\u001b[0mmu\u001b[0m\u001b[1;33m/\u001b[0m\u001b[1;33m(\u001b[0m\u001b[1;36m1\u001b[0m\u001b[1;33m-\u001b[0m\u001b[0mmu\u001b[0m\u001b[1;33m)\u001b[0m\u001b[1;33m*\u001b[0m\u001b[0mpsih\u001b[0m\u001b[1;33m,\u001b[0m\u001b[1;36m0\u001b[0m\u001b[1;33m,\u001b[0m\u001b[1;36m0\u001b[0m\u001b[1;33m,\u001b[0m\u001b[1;36m0\u001b[0m\u001b[1;33m,\u001b[0m\u001b[1;36m0\u001b[0m\u001b[1;33m,\u001b[0m\u001b[0mdz\u001b[0m\u001b[1;33m(\u001b[0m\u001b[0mx\u001b[0m\u001b[1;33m[\u001b[0m\u001b[1;36m8\u001b[0m\u001b[1;33m]\u001b[0m\u001b[1;33m)\u001b[0m\u001b[1;33m,\u001b[0m\u001b[1;36m0\u001b[0m\u001b[1;33m]\u001b[0m\u001b[1;33m,\u001b[0m\u001b[1;33m\u001b[0m\u001b[0m\n\u001b[0;32m     63\u001b[0m                [0,0,mu/(1-mu)*phih,0,0,0,0,0,0,dz(x[9])]]\n\u001b[1;32m---> 64\u001b[1;33m     \u001b[1;32mreturn\u001b[0m \u001b[0moptimize\u001b[0m\u001b[1;33m.\u001b[0m\u001b[0mroot\u001b[0m\u001b[1;33m(\u001b[0m\u001b[0msysc\u001b[0m\u001b[1;33m,\u001b[0m\u001b[1;33m(\u001b[0m\u001b[1;36m.5\u001b[0m\u001b[1;33m,\u001b[0m\u001b[1;36m.5\u001b[0m\u001b[1;33m,\u001b[0m\u001b[1;36m1\u001b[0m\u001b[1;33m,\u001b[0m\u001b[1;36m1\u001b[0m\u001b[1;33m,\u001b[0m\u001b[1;36m1\u001b[0m\u001b[1;33m,\u001b[0m\u001b[1;36m1\u001b[0m\u001b[1;33m,\u001b[0m\u001b[1;36m1\u001b[0m\u001b[1;33m,\u001b[0m\u001b[1;36m1\u001b[0m\u001b[1;33m,\u001b[0m\u001b[1;36m1\u001b[0m\u001b[1;33m,\u001b[0m\u001b[1;36m1\u001b[0m\u001b[1;33m)\u001b[0m\u001b[1;33m,\u001b[0m\u001b[0mjac\u001b[0m\u001b[1;33m=\u001b[0m\u001b[0mjac2\u001b[0m\u001b[1;33m)\u001b[0m\u001b[1;33m.\u001b[0m\u001b[0mx\u001b[0m\u001b[1;33m\u001b[0m\u001b[0m\n\u001b[0m",
      "\u001b[1;32mC:\\Users\\spspi\\AppData\\Local\\Continuum\\Anaconda3\\lib\\site-packages\\scipy\\optimize\\_root.py\u001b[0m in \u001b[0;36mroot\u001b[1;34m(fun, x0, args, method, jac, tol, callback, options)\u001b[0m\n\u001b[0;32m    184\u001b[0m \u001b[1;33m\u001b[0m\u001b[0m\n\u001b[0;32m    185\u001b[0m     \u001b[1;32mif\u001b[0m \u001b[0mmeth\u001b[0m \u001b[1;33m==\u001b[0m \u001b[1;34m'hybr'\u001b[0m\u001b[1;33m:\u001b[0m\u001b[1;33m\u001b[0m\u001b[0m\n\u001b[1;32m--> 186\u001b[1;33m         \u001b[0msol\u001b[0m \u001b[1;33m=\u001b[0m \u001b[0m_root_hybr\u001b[0m\u001b[1;33m(\u001b[0m\u001b[0mfun\u001b[0m\u001b[1;33m,\u001b[0m \u001b[0mx0\u001b[0m\u001b[1;33m,\u001b[0m \u001b[0margs\u001b[0m\u001b[1;33m=\u001b[0m\u001b[0margs\u001b[0m\u001b[1;33m,\u001b[0m \u001b[0mjac\u001b[0m\u001b[1;33m=\u001b[0m\u001b[0mjac\u001b[0m\u001b[1;33m,\u001b[0m \u001b[1;33m**\u001b[0m\u001b[0moptions\u001b[0m\u001b[1;33m)\u001b[0m\u001b[1;33m\u001b[0m\u001b[0m\n\u001b[0m\u001b[0;32m    187\u001b[0m     \u001b[1;32melif\u001b[0m \u001b[0mmeth\u001b[0m \u001b[1;33m==\u001b[0m \u001b[1;34m'lm'\u001b[0m\u001b[1;33m:\u001b[0m\u001b[1;33m\u001b[0m\u001b[0m\n\u001b[0;32m    188\u001b[0m         \u001b[0msol\u001b[0m \u001b[1;33m=\u001b[0m \u001b[0m_root_leastsq\u001b[0m\u001b[1;33m(\u001b[0m\u001b[0mfun\u001b[0m\u001b[1;33m,\u001b[0m \u001b[0mx0\u001b[0m\u001b[1;33m,\u001b[0m \u001b[0margs\u001b[0m\u001b[1;33m=\u001b[0m\u001b[0margs\u001b[0m\u001b[1;33m,\u001b[0m \u001b[0mjac\u001b[0m\u001b[1;33m=\u001b[0m\u001b[0mjac\u001b[0m\u001b[1;33m,\u001b[0m \u001b[1;33m**\u001b[0m\u001b[0moptions\u001b[0m\u001b[1;33m)\u001b[0m\u001b[1;33m\u001b[0m\u001b[0m\n",
      "\u001b[1;32mC:\\Users\\spspi\\AppData\\Local\\Continuum\\Anaconda3\\lib\\site-packages\\scipy\\optimize\\minpack.py\u001b[0m in \u001b[0;36m_root_hybr\u001b[1;34m(func, x0, args, jac, col_deriv, xtol, maxfev, band, eps, factor, diag, **unknown_options)\u001b[0m\n\u001b[0;32m    210\u001b[0m     \u001b[1;32mif\u001b[0m \u001b[1;32mnot\u001b[0m \u001b[0misinstance\u001b[0m\u001b[1;33m(\u001b[0m\u001b[0margs\u001b[0m\u001b[1;33m,\u001b[0m \u001b[0mtuple\u001b[0m\u001b[1;33m)\u001b[0m\u001b[1;33m:\u001b[0m\u001b[1;33m\u001b[0m\u001b[0m\n\u001b[0;32m    211\u001b[0m         \u001b[0margs\u001b[0m \u001b[1;33m=\u001b[0m \u001b[1;33m(\u001b[0m\u001b[0margs\u001b[0m\u001b[1;33m,\u001b[0m\u001b[1;33m)\u001b[0m\u001b[1;33m\u001b[0m\u001b[0m\n\u001b[1;32m--> 212\u001b[1;33m     \u001b[0mshape\u001b[0m\u001b[1;33m,\u001b[0m \u001b[0mdtype\u001b[0m \u001b[1;33m=\u001b[0m \u001b[0m_check_func\u001b[0m\u001b[1;33m(\u001b[0m\u001b[1;34m'fsolve'\u001b[0m\u001b[1;33m,\u001b[0m \u001b[1;34m'func'\u001b[0m\u001b[1;33m,\u001b[0m \u001b[0mfunc\u001b[0m\u001b[1;33m,\u001b[0m \u001b[0mx0\u001b[0m\u001b[1;33m,\u001b[0m \u001b[0margs\u001b[0m\u001b[1;33m,\u001b[0m \u001b[0mn\u001b[0m\u001b[1;33m,\u001b[0m \u001b[1;33m(\u001b[0m\u001b[0mn\u001b[0m\u001b[1;33m,\u001b[0m\u001b[1;33m)\u001b[0m\u001b[1;33m)\u001b[0m\u001b[1;33m\u001b[0m\u001b[0m\n\u001b[0m\u001b[0;32m    213\u001b[0m     \u001b[1;32mif\u001b[0m \u001b[0mepsfcn\u001b[0m \u001b[1;32mis\u001b[0m \u001b[1;32mNone\u001b[0m\u001b[1;33m:\u001b[0m\u001b[1;33m\u001b[0m\u001b[0m\n\u001b[0;32m    214\u001b[0m         \u001b[0mepsfcn\u001b[0m \u001b[1;33m=\u001b[0m \u001b[0mfinfo\u001b[0m\u001b[1;33m(\u001b[0m\u001b[0mdtype\u001b[0m\u001b[1;33m)\u001b[0m\u001b[1;33m.\u001b[0m\u001b[0meps\u001b[0m\u001b[1;33m\u001b[0m\u001b[0m\n",
      "\u001b[1;32mC:\\Users\\spspi\\AppData\\Local\\Continuum\\Anaconda3\\lib\\site-packages\\scipy\\optimize\\minpack.py\u001b[0m in \u001b[0;36m_check_func\u001b[1;34m(checker, argname, thefunc, x0, args, numinputs, output_shape)\u001b[0m\n\u001b[0;32m     24\u001b[0m def _check_func(checker, argname, thefunc, x0, args, numinputs,\n\u001b[0;32m     25\u001b[0m                 output_shape=None):\n\u001b[1;32m---> 26\u001b[1;33m     \u001b[0mres\u001b[0m \u001b[1;33m=\u001b[0m \u001b[0matleast_1d\u001b[0m\u001b[1;33m(\u001b[0m\u001b[0mthefunc\u001b[0m\u001b[1;33m(\u001b[0m\u001b[1;33m*\u001b[0m\u001b[1;33m(\u001b[0m\u001b[1;33m(\u001b[0m\u001b[0mx0\u001b[0m\u001b[1;33m[\u001b[0m\u001b[1;33m:\u001b[0m\u001b[0mnuminputs\u001b[0m\u001b[1;33m]\u001b[0m\u001b[1;33m,\u001b[0m\u001b[1;33m)\u001b[0m \u001b[1;33m+\u001b[0m \u001b[0margs\u001b[0m\u001b[1;33m)\u001b[0m\u001b[1;33m)\u001b[0m\u001b[1;33m)\u001b[0m\u001b[1;33m\u001b[0m\u001b[0m\n\u001b[0m\u001b[0;32m     27\u001b[0m     \u001b[1;32mif\u001b[0m \u001b[1;33m(\u001b[0m\u001b[0moutput_shape\u001b[0m \u001b[1;32mis\u001b[0m \u001b[1;32mnot\u001b[0m \u001b[1;32mNone\u001b[0m\u001b[1;33m)\u001b[0m \u001b[1;32mand\u001b[0m \u001b[1;33m(\u001b[0m\u001b[0mshape\u001b[0m\u001b[1;33m(\u001b[0m\u001b[0mres\u001b[0m\u001b[1;33m)\u001b[0m \u001b[1;33m!=\u001b[0m \u001b[0moutput_shape\u001b[0m\u001b[1;33m)\u001b[0m\u001b[1;33m:\u001b[0m\u001b[1;33m\u001b[0m\u001b[0m\n\u001b[0;32m     28\u001b[0m         \u001b[1;32mif\u001b[0m \u001b[1;33m(\u001b[0m\u001b[0moutput_shape\u001b[0m\u001b[1;33m[\u001b[0m\u001b[1;36m0\u001b[0m\u001b[1;33m]\u001b[0m \u001b[1;33m!=\u001b[0m \u001b[1;36m1\u001b[0m\u001b[1;33m)\u001b[0m\u001b[1;33m:\u001b[0m\u001b[1;33m\u001b[0m\u001b[0m\n",
      "\u001b[1;32m<ipython-input-9-742e33213b9c>\u001b[0m in \u001b[0;36msysc\u001b[1;34m(x)\u001b[0m\n\u001b[0;32m     49\u001b[0m         \u001b[0mninthq\u001b[0m\u001b[1;33m=\u001b[0m\u001b[0mqwealth\u001b[0m\u001b[1;33m(\u001b[0m\u001b[0mx\u001b[0m\u001b[1;33m[\u001b[0m\u001b[1;36m8\u001b[0m\u001b[1;33m]\u001b[0m\u001b[1;33m,\u001b[0m\u001b[0mphih\u001b[0m\u001b[1;33m*\u001b[0m\u001b[1;33m(\u001b[0m\u001b[0mMp\u001b[0m\u001b[1;33m-\u001b[0m\u001b[0mmu\u001b[0m\u001b[1;33m*\u001b[0m\u001b[0mx\u001b[0m\u001b[1;33m[\u001b[0m\u001b[1;36m2\u001b[0m\u001b[1;33m]\u001b[0m\u001b[1;33m)\u001b[0m\u001b[1;33m/\u001b[0m\u001b[1;33m(\u001b[0m\u001b[1;36m1\u001b[0m\u001b[1;33m-\u001b[0m\u001b[0mmu\u001b[0m\u001b[1;33m)\u001b[0m\u001b[1;33m+\u001b[0m\u001b[0mpsih\u001b[0m\u001b[1;33m*\u001b[0m\u001b[1;33m(\u001b[0m\u001b[0mCp\u001b[0m\u001b[1;33m-\u001b[0m\u001b[0mmu\u001b[0m\u001b[1;33m*\u001b[0m\u001b[0mx\u001b[0m\u001b[1;33m[\u001b[0m\u001b[1;36m3\u001b[0m\u001b[1;33m]\u001b[0m\u001b[1;33m)\u001b[0m\u001b[1;33m/\u001b[0m\u001b[1;33m(\u001b[0m\u001b[1;36m1\u001b[0m\u001b[1;33m-\u001b[0m\u001b[0mmu\u001b[0m\u001b[1;33m)\u001b[0m\u001b[1;33m)\u001b[0m\u001b[1;33m\u001b[0m\u001b[0m\n\u001b[0;32m     50\u001b[0m         \u001b[0mtenthq\u001b[0m\u001b[1;33m=\u001b[0m\u001b[0mqwealth\u001b[0m\u001b[1;33m(\u001b[0m\u001b[0mx\u001b[0m\u001b[1;33m[\u001b[0m\u001b[1;36m9\u001b[0m\u001b[1;33m]\u001b[0m\u001b[1;33m,\u001b[0m\u001b[0mphih\u001b[0m\u001b[1;33m*\u001b[0m\u001b[1;33m(\u001b[0m\u001b[0mMp\u001b[0m\u001b[1;33m-\u001b[0m\u001b[0mmu\u001b[0m\u001b[1;33m*\u001b[0m\u001b[0mx\u001b[0m\u001b[1;33m[\u001b[0m\u001b[1;36m2\u001b[0m\u001b[1;33m]\u001b[0m\u001b[1;33m)\u001b[0m\u001b[1;33m/\u001b[0m\u001b[1;33m(\u001b[0m\u001b[1;36m1\u001b[0m\u001b[1;33m-\u001b[0m\u001b[0mmu\u001b[0m\u001b[1;33m)\u001b[0m\u001b[1;33m)\u001b[0m\u001b[1;33m\u001b[0m\u001b[0m\n\u001b[1;32m---> 51\u001b[1;33m         \u001b[1;32mreturn\u001b[0m \u001b[1;33m[\u001b[0m\u001b[0mfirsteq\u001b[0m\u001b[1;33m,\u001b[0m \u001b[0msecondeq\u001b[0m\u001b[1;33m,\u001b[0m \u001b[0mthirdeq\u001b[0m\u001b[1;33m,\u001b[0m \u001b[0mfourtheq\u001b[0m\u001b[1;33m,\u001b[0m \u001b[0mfiftheq\u001b[0m\u001b[1;33m,\u001b[0m \u001b[0msixtheq\u001b[0m\u001b[1;33m,\u001b[0m \u001b[0mseventheq\u001b[0m\u001b[1;33m,\u001b[0m\u001b[0meigtheq\u001b[0m\u001b[1;33m,\u001b[0m\u001b[0mnintheq\u001b[0m\u001b[1;33m,\u001b[0m\u001b[0mtentheq\u001b[0m\u001b[1;33m]\u001b[0m\u001b[1;33m\u001b[0m\u001b[0m\n\u001b[0m\u001b[0;32m     52\u001b[0m     \u001b[1;32mdef\u001b[0m \u001b[0mjac2\u001b[0m\u001b[1;33m(\u001b[0m\u001b[0mx\u001b[0m\u001b[1;33m)\u001b[0m\u001b[1;33m:\u001b[0m\u001b[1;33m\u001b[0m\u001b[0m\n\u001b[0;32m     53\u001b[0m         return [[-1,0,0,0,-B*pi*phil*lambl*dliq(x[5]),-B*pi*phil*lamml*dliq(x[6]),-B*(1-pi)*phih*lambh*dliq(x[7]),\n",
      "\u001b[1;31mNameError\u001b[0m: name 'seventheq' is not defined"
     ]
    }
   ],
   "source": [
    "alphal=.9\n",
    "alphah=.95\n",
    "pi=.99\n",
    "mu=.99\n",
    "gammam=.085\n",
    "gammac=-.02\n",
    "M0=1 # Original money supply\n",
    "C0=1 # Original cc supply\n",
    "time=0 # period problem solved in\n",
    "mu=.99 # share of buyers (vs hodlers)\n",
    "Mp=M0*(1+gammam)**(time+1) # the money supply next period\n",
    "Cp=C0*(1+gammac)**(time+1) # the cc supply next period\n",
    "phil,psil=ststprices(alphal,gammam,gammac,Mp,Cp) # prices in low stst\n",
    "phih,psih=ststprices(alphah,gammam,gammac,Mp,Cp) # prices in high stst\n",
    "print(periodprices(alphal,alphah,phil,psil,phih,psih,pi,0))    "
   ]
  },
  {
   "cell_type": "code",
   "execution_count": null,
   "metadata": {
    "collapsed": true
   },
   "outputs": [],
   "source": []
  }
 ],
 "metadata": {
  "kernelspec": {
   "display_name": "Python 3",
   "language": "python",
   "name": "python3"
  },
  "language_info": {
   "codemirror_mode": {
    "name": "ipython",
    "version": 3
   },
   "file_extension": ".py",
   "mimetype": "text/x-python",
   "name": "python",
   "nbconvert_exporter": "python",
   "pygments_lexer": "ipython3",
   "version": "3.6.1"
  }
 },
 "nbformat": 4,
 "nbformat_minor": 2
}
