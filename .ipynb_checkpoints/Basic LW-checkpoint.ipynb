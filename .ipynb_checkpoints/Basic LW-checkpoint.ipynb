{
 "cells": [
  {
   "cell_type": "code",
   "execution_count": 12,
   "metadata": {},
   "outputs": [
    {
     "name": "stdout",
     "output_type": "stream",
     "text": [
      "[-0.03062224]\n"
     ]
    }
   ],
   "source": [
    "# Try to calculate steady state for basic LW problem \n",
    "# Set U(X)=Cln(x); u(q)=ln(q+b)-ln(b); c(q)=q; b=.0001 (Zhang 2014)\n",
    "# So u'=1/q+b; c'=1; z(q)=(1-theta)u(q)+theta*c(q); z'=(1-theta)/(q+b)+theta; l=theta*[(1-q-b)/(q+b)]/[(1-theta)/(q+b)+theta]\n",
    "# l=theta*(1-q-b)/(1-theta+(q+b)*theta)=theta*(1-q-b)/(1-theta*(1-q-b))\n",
    "import math\n",
    "from scipy import optimize\n",
    "b=.00001\n",
    "B=.95 # Discount rate beta\n",
    "lam=1 # Meeting rate lambda\n",
    "M=1 # Initial Money supply\n",
    "theta=.5 # Buyer bargaining power\n",
    "gamma=.01 # Inflation rate\n",
    "\n",
    "# Want to solve for q such that lam*l=i=(1+gamma)/B\n",
    "def fun(q):\n",
    "    return lam*theta*(1-q-b)/(1-theta*(1-q-b))-(1+gamma)/B\n",
    "qstar=optimize.root(fun,0)\n",
    "print(qstar.x)\n"
   ]
  },
  {
   "cell_type": "code",
   "execution_count": null,
   "metadata": {
    "collapsed": true
   },
   "outputs": [],
   "source": []
  }
 ],
 "metadata": {
  "kernelspec": {
   "display_name": "Python 3",
   "language": "python",
   "name": "python3"
  },
  "language_info": {
   "codemirror_mode": {
    "name": "ipython",
    "version": 3
   },
   "file_extension": ".py",
   "mimetype": "text/x-python",
   "name": "python",
   "nbconvert_exporter": "python",
   "pygments_lexer": "ipython3",
   "version": "3.6.1"
  }
 },
 "nbformat": 4,
 "nbformat_minor": 2
}
